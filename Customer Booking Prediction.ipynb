{
 "cells": [
  {
   "cell_type": "markdown",
   "id": "4192a4ed",
   "metadata": {},
   "source": [
    "Customers are more empowered than ever because they have access to a wealth of information at their fingertips. This is one of the reasons the buying cycle is very different to what it used to be. Today, if you’re hoping that a customer purchases your flights as they come into the airport, you’ve already lost! Being reactive in this situation is not ideal; airlines must be proactive in order to acquire customers before they embark on their holiday."
   ]
  },
  {
   "cell_type": "markdown",
   "id": "8d674efb",
   "metadata": {},
   "source": [
    "This project is focused on training a machine learning model to be able to predict the target outcome, which is a customer making a booking. "
   ]
  },
  {
   "cell_type": "code",
   "execution_count": 1,
   "id": "7bf18338",
   "metadata": {},
   "outputs": [],
   "source": [
    "#importing libraries\n",
    "import pandas as pd\n",
    "import numpy as np\n",
    "import matplotlib.pyplot as plt\n",
    "import seaborn as sns\n",
    "from sklearn.ensemble import RandomForestClassifier\n",
    "from sklearn.model_selection import train_test_split\n",
    "from sklearn.metrics import accuracy_score\n",
    "import category_encoders as ce\n",
    "from sklearn.preprocessing import RobustScaler\n",
    "from sklearn.metrics import confusion_matrix, ConfusionMatrixDisplay"
   ]
  },
  {
   "cell_type": "code",
   "execution_count": null,
   "id": "4da42395",
   "metadata": {},
   "outputs": [],
   "source": []
  },
  {
   "cell_type": "markdown",
   "id": "fba3d117",
   "metadata": {},
   "source": [
    "# Exploratory Data Analysis"
   ]
  },
  {
   "cell_type": "markdown",
   "id": "468158fb",
   "metadata": {},
   "source": [
    "First, we must explore the data in order to better understand what we have and the statistical properties of the dataset."
   ]
  },
  {
   "cell_type": "code",
   "execution_count": 2,
   "id": "794239a1",
   "metadata": {},
   "outputs": [
    {
     "data": {
      "text/html": [
       "<div>\n",
       "<style scoped>\n",
       "    .dataframe tbody tr th:only-of-type {\n",
       "        vertical-align: middle;\n",
       "    }\n",
       "\n",
       "    .dataframe tbody tr th {\n",
       "        vertical-align: top;\n",
       "    }\n",
       "\n",
       "    .dataframe thead th {\n",
       "        text-align: right;\n",
       "    }\n",
       "</style>\n",
       "<table border=\"1\" class=\"dataframe\">\n",
       "  <thead>\n",
       "    <tr style=\"text-align: right;\">\n",
       "      <th></th>\n",
       "      <th>num_passengers</th>\n",
       "      <th>sales_channel</th>\n",
       "      <th>trip_type</th>\n",
       "      <th>purchase_lead</th>\n",
       "      <th>length_of_stay</th>\n",
       "      <th>flight_hour</th>\n",
       "      <th>flight_day</th>\n",
       "      <th>route</th>\n",
       "      <th>booking_origin</th>\n",
       "      <th>wants_extra_baggage</th>\n",
       "      <th>wants_preferred_seat</th>\n",
       "      <th>wants_in_flight_meals</th>\n",
       "      <th>flight_duration</th>\n",
       "      <th>booking_complete</th>\n",
       "    </tr>\n",
       "  </thead>\n",
       "  <tbody>\n",
       "    <tr>\n",
       "      <th>0</th>\n",
       "      <td>2</td>\n",
       "      <td>Internet</td>\n",
       "      <td>RoundTrip</td>\n",
       "      <td>262</td>\n",
       "      <td>19</td>\n",
       "      <td>7</td>\n",
       "      <td>Sat</td>\n",
       "      <td>AKLDEL</td>\n",
       "      <td>New Zealand</td>\n",
       "      <td>1</td>\n",
       "      <td>0</td>\n",
       "      <td>0</td>\n",
       "      <td>5.52</td>\n",
       "      <td>0</td>\n",
       "    </tr>\n",
       "    <tr>\n",
       "      <th>1</th>\n",
       "      <td>1</td>\n",
       "      <td>Internet</td>\n",
       "      <td>RoundTrip</td>\n",
       "      <td>112</td>\n",
       "      <td>20</td>\n",
       "      <td>3</td>\n",
       "      <td>Sat</td>\n",
       "      <td>AKLDEL</td>\n",
       "      <td>New Zealand</td>\n",
       "      <td>0</td>\n",
       "      <td>0</td>\n",
       "      <td>0</td>\n",
       "      <td>5.52</td>\n",
       "      <td>0</td>\n",
       "    </tr>\n",
       "    <tr>\n",
       "      <th>2</th>\n",
       "      <td>2</td>\n",
       "      <td>Internet</td>\n",
       "      <td>RoundTrip</td>\n",
       "      <td>243</td>\n",
       "      <td>22</td>\n",
       "      <td>17</td>\n",
       "      <td>Wed</td>\n",
       "      <td>AKLDEL</td>\n",
       "      <td>India</td>\n",
       "      <td>1</td>\n",
       "      <td>1</td>\n",
       "      <td>0</td>\n",
       "      <td>5.52</td>\n",
       "      <td>0</td>\n",
       "    </tr>\n",
       "    <tr>\n",
       "      <th>3</th>\n",
       "      <td>1</td>\n",
       "      <td>Internet</td>\n",
       "      <td>RoundTrip</td>\n",
       "      <td>96</td>\n",
       "      <td>31</td>\n",
       "      <td>4</td>\n",
       "      <td>Sat</td>\n",
       "      <td>AKLDEL</td>\n",
       "      <td>New Zealand</td>\n",
       "      <td>0</td>\n",
       "      <td>0</td>\n",
       "      <td>1</td>\n",
       "      <td>5.52</td>\n",
       "      <td>0</td>\n",
       "    </tr>\n",
       "    <tr>\n",
       "      <th>4</th>\n",
       "      <td>2</td>\n",
       "      <td>Internet</td>\n",
       "      <td>RoundTrip</td>\n",
       "      <td>68</td>\n",
       "      <td>22</td>\n",
       "      <td>15</td>\n",
       "      <td>Wed</td>\n",
       "      <td>AKLDEL</td>\n",
       "      <td>India</td>\n",
       "      <td>1</td>\n",
       "      <td>0</td>\n",
       "      <td>1</td>\n",
       "      <td>5.52</td>\n",
       "      <td>0</td>\n",
       "    </tr>\n",
       "  </tbody>\n",
       "</table>\n",
       "</div>"
      ],
      "text/plain": [
       "   num_passengers sales_channel  trip_type  purchase_lead  length_of_stay  \\\n",
       "0               2      Internet  RoundTrip            262              19   \n",
       "1               1      Internet  RoundTrip            112              20   \n",
       "2               2      Internet  RoundTrip            243              22   \n",
       "3               1      Internet  RoundTrip             96              31   \n",
       "4               2      Internet  RoundTrip             68              22   \n",
       "\n",
       "   flight_hour flight_day   route booking_origin  wants_extra_baggage  \\\n",
       "0            7        Sat  AKLDEL    New Zealand                    1   \n",
       "1            3        Sat  AKLDEL    New Zealand                    0   \n",
       "2           17        Wed  AKLDEL          India                    1   \n",
       "3            4        Sat  AKLDEL    New Zealand                    0   \n",
       "4           15        Wed  AKLDEL          India                    1   \n",
       "\n",
       "   wants_preferred_seat  wants_in_flight_meals  flight_duration  \\\n",
       "0                     0                      0             5.52   \n",
       "1                     0                      0             5.52   \n",
       "2                     1                      0             5.52   \n",
       "3                     0                      1             5.52   \n",
       "4                     0                      1             5.52   \n",
       "\n",
       "   booking_complete  \n",
       "0                 0  \n",
       "1                 0  \n",
       "2                 0  \n",
       "3                 0  \n",
       "4                 0  "
      ]
     },
     "execution_count": 2,
     "metadata": {},
     "output_type": "execute_result"
    }
   ],
   "source": [
    "df = pd.read_csv(\"customer_booking.csv\", encoding=\"ISO-8859-1\")\n",
    "df.head()"
   ]
  },
  {
   "cell_type": "code",
   "execution_count": 3,
   "id": "dba77395",
   "metadata": {},
   "outputs": [
    {
     "name": "stdout",
     "output_type": "stream",
     "text": [
      "<class 'pandas.core.frame.DataFrame'>\n",
      "RangeIndex: 50000 entries, 0 to 49999\n",
      "Data columns (total 14 columns):\n",
      " #   Column                 Non-Null Count  Dtype  \n",
      "---  ------                 --------------  -----  \n",
      " 0   num_passengers         50000 non-null  int64  \n",
      " 1   sales_channel          50000 non-null  object \n",
      " 2   trip_type              50000 non-null  object \n",
      " 3   purchase_lead          50000 non-null  int64  \n",
      " 4   length_of_stay         50000 non-null  int64  \n",
      " 5   flight_hour            50000 non-null  int64  \n",
      " 6   flight_day             50000 non-null  object \n",
      " 7   route                  50000 non-null  object \n",
      " 8   booking_origin         50000 non-null  object \n",
      " 9   wants_extra_baggage    50000 non-null  int64  \n",
      " 10  wants_preferred_seat   50000 non-null  int64  \n",
      " 11  wants_in_flight_meals  50000 non-null  int64  \n",
      " 12  flight_duration        50000 non-null  float64\n",
      " 13  booking_complete       50000 non-null  int64  \n",
      "dtypes: float64(1), int64(8), object(5)\n",
      "memory usage: 5.3+ MB\n"
     ]
    }
   ],
   "source": [
    "# Getting information about data types of the columns and to check if null values are present \n",
    "df.info()"
   ]
  },
  {
   "cell_type": "markdown",
   "id": "3c5e2977",
   "metadata": {},
   "source": [
    "We can see that the dataset contains 5 character variables and 7 numerical variables."
   ]
  },
  {
   "cell_type": "markdown",
   "id": "e6b7f05f",
   "metadata": {},
   "source": [
    "booking_complete is the target variable"
   ]
  },
  {
   "cell_type": "markdown",
   "id": "4121d505",
   "metadata": {},
   "source": [
    "There are also no null values in the dataset"
   ]
  },
  {
   "cell_type": "code",
   "execution_count": 4,
   "id": "baa8d78a",
   "metadata": {},
   "outputs": [
    {
     "data": {
      "text/html": [
       "<div>\n",
       "<style scoped>\n",
       "    .dataframe tbody tr th:only-of-type {\n",
       "        vertical-align: middle;\n",
       "    }\n",
       "\n",
       "    .dataframe tbody tr th {\n",
       "        vertical-align: top;\n",
       "    }\n",
       "\n",
       "    .dataframe thead th {\n",
       "        text-align: right;\n",
       "    }\n",
       "</style>\n",
       "<table border=\"1\" class=\"dataframe\">\n",
       "  <thead>\n",
       "    <tr style=\"text-align: right;\">\n",
       "      <th></th>\n",
       "      <th>count</th>\n",
       "      <th>mean</th>\n",
       "      <th>std</th>\n",
       "      <th>min</th>\n",
       "      <th>25%</th>\n",
       "      <th>50%</th>\n",
       "      <th>75%</th>\n",
       "      <th>max</th>\n",
       "    </tr>\n",
       "  </thead>\n",
       "  <tbody>\n",
       "    <tr>\n",
       "      <th>num_passengers</th>\n",
       "      <td>50000.0</td>\n",
       "      <td>1.591240</td>\n",
       "      <td>1.020165</td>\n",
       "      <td>1.00</td>\n",
       "      <td>1.00</td>\n",
       "      <td>1.00</td>\n",
       "      <td>2.00</td>\n",
       "      <td>9.0</td>\n",
       "    </tr>\n",
       "    <tr>\n",
       "      <th>purchase_lead</th>\n",
       "      <td>50000.0</td>\n",
       "      <td>84.940480</td>\n",
       "      <td>90.451378</td>\n",
       "      <td>0.00</td>\n",
       "      <td>21.00</td>\n",
       "      <td>51.00</td>\n",
       "      <td>115.00</td>\n",
       "      <td>867.0</td>\n",
       "    </tr>\n",
       "    <tr>\n",
       "      <th>length_of_stay</th>\n",
       "      <td>50000.0</td>\n",
       "      <td>23.044560</td>\n",
       "      <td>33.887670</td>\n",
       "      <td>0.00</td>\n",
       "      <td>5.00</td>\n",
       "      <td>17.00</td>\n",
       "      <td>28.00</td>\n",
       "      <td>778.0</td>\n",
       "    </tr>\n",
       "    <tr>\n",
       "      <th>flight_hour</th>\n",
       "      <td>50000.0</td>\n",
       "      <td>9.066340</td>\n",
       "      <td>5.412660</td>\n",
       "      <td>0.00</td>\n",
       "      <td>5.00</td>\n",
       "      <td>9.00</td>\n",
       "      <td>13.00</td>\n",
       "      <td>23.0</td>\n",
       "    </tr>\n",
       "    <tr>\n",
       "      <th>wants_extra_baggage</th>\n",
       "      <td>50000.0</td>\n",
       "      <td>0.668780</td>\n",
       "      <td>0.470657</td>\n",
       "      <td>0.00</td>\n",
       "      <td>0.00</td>\n",
       "      <td>1.00</td>\n",
       "      <td>1.00</td>\n",
       "      <td>1.0</td>\n",
       "    </tr>\n",
       "    <tr>\n",
       "      <th>wants_preferred_seat</th>\n",
       "      <td>50000.0</td>\n",
       "      <td>0.296960</td>\n",
       "      <td>0.456923</td>\n",
       "      <td>0.00</td>\n",
       "      <td>0.00</td>\n",
       "      <td>0.00</td>\n",
       "      <td>1.00</td>\n",
       "      <td>1.0</td>\n",
       "    </tr>\n",
       "    <tr>\n",
       "      <th>wants_in_flight_meals</th>\n",
       "      <td>50000.0</td>\n",
       "      <td>0.427140</td>\n",
       "      <td>0.494668</td>\n",
       "      <td>0.00</td>\n",
       "      <td>0.00</td>\n",
       "      <td>0.00</td>\n",
       "      <td>1.00</td>\n",
       "      <td>1.0</td>\n",
       "    </tr>\n",
       "    <tr>\n",
       "      <th>flight_duration</th>\n",
       "      <td>50000.0</td>\n",
       "      <td>7.277561</td>\n",
       "      <td>1.496863</td>\n",
       "      <td>4.67</td>\n",
       "      <td>5.62</td>\n",
       "      <td>7.57</td>\n",
       "      <td>8.83</td>\n",
       "      <td>9.5</td>\n",
       "    </tr>\n",
       "    <tr>\n",
       "      <th>booking_complete</th>\n",
       "      <td>50000.0</td>\n",
       "      <td>0.149560</td>\n",
       "      <td>0.356643</td>\n",
       "      <td>0.00</td>\n",
       "      <td>0.00</td>\n",
       "      <td>0.00</td>\n",
       "      <td>0.00</td>\n",
       "      <td>1.0</td>\n",
       "    </tr>\n",
       "  </tbody>\n",
       "</table>\n",
       "</div>"
      ],
      "text/plain": [
       "                         count       mean        std   min    25%    50%  \\\n",
       "num_passengers         50000.0   1.591240   1.020165  1.00   1.00   1.00   \n",
       "purchase_lead          50000.0  84.940480  90.451378  0.00  21.00  51.00   \n",
       "length_of_stay         50000.0  23.044560  33.887670  0.00   5.00  17.00   \n",
       "flight_hour            50000.0   9.066340   5.412660  0.00   5.00   9.00   \n",
       "wants_extra_baggage    50000.0   0.668780   0.470657  0.00   0.00   1.00   \n",
       "wants_preferred_seat   50000.0   0.296960   0.456923  0.00   0.00   0.00   \n",
       "wants_in_flight_meals  50000.0   0.427140   0.494668  0.00   0.00   0.00   \n",
       "flight_duration        50000.0   7.277561   1.496863  4.67   5.62   7.57   \n",
       "booking_complete       50000.0   0.149560   0.356643  0.00   0.00   0.00   \n",
       "\n",
       "                          75%    max  \n",
       "num_passengers           2.00    9.0  \n",
       "purchase_lead          115.00  867.0  \n",
       "length_of_stay          28.00  778.0  \n",
       "flight_hour             13.00   23.0  \n",
       "wants_extra_baggage      1.00    1.0  \n",
       "wants_preferred_seat     1.00    1.0  \n",
       "wants_in_flight_meals    1.00    1.0  \n",
       "flight_duration          8.83    9.5  \n",
       "booking_complete         0.00    1.0  "
      ]
     },
     "execution_count": 4,
     "metadata": {},
     "output_type": "execute_result"
    }
   ],
   "source": [
    "# Getting summary of descriptive statistics of the numeric columns in the dataset  \n",
    "df.describe().T"
   ]
  },
  {
   "cell_type": "markdown",
   "id": "581f5220",
   "metadata": {},
   "source": [
    "The above command df.describe().T helps us to view the statistical properties of numerical variables. It excludes character variables. "
   ]
  },
  {
   "cell_type": "code",
   "execution_count": 5,
   "id": "ce6a0478",
   "metadata": {},
   "outputs": [
    {
     "name": "stdout",
     "output_type": "stream",
     "text": [
      "There are 5 categorical variables\n",
      "\n",
      "The categorical variables are :\n",
      "\n",
      " ['sales_channel', 'trip_type', 'flight_day', 'route', 'booking_origin']\n"
     ]
    }
   ],
   "source": [
    "#Find and preview Categorical variables\n",
    "categorical = [var for var in df.columns if df[var].dtype=='O']\n",
    "\n",
    "print('There are {} categorical variables\\n'.format(len(categorical)))\n",
    "\n",
    "print('The categorical variables are :\\n\\n', categorical)"
   ]
  },
  {
   "cell_type": "code",
   "execution_count": 6,
   "id": "e8c0a4ac",
   "metadata": {},
   "outputs": [
    {
     "name": "stdout",
     "output_type": "stream",
     "text": [
      "sales_channel\n",
      "Internet         89.0%\n",
      "Mobile           11.0%\n",
      "dtype: object\n",
      "trip_type \n",
      "RoundTrip     99.0%\n",
      "OneWay         1.0%\n",
      "CircleTrip     0.0%\n",
      "dtype: object\n",
      "flight_day\n",
      "Mon           16.0%\n",
      "Wed           15.0%\n",
      "Tue           15.0%\n",
      "Thu           15.0%\n",
      "Fri           14.0%\n",
      "Sun           13.0%\n",
      "Sat           12.0%\n",
      "dtype: object\n",
      "route \n",
      "AKLKUL    5.0%\n",
      "PENTPE    2.0%\n",
      "MELSGN    2.0%\n",
      "ICNSIN    2.0%\n",
      "DMKKIX    1.0%\n",
      "dtype: object\n",
      "booking_origin\n",
      "Australia         36.0%\n",
      "Malaysia          14.0%\n",
      "South Korea        9.0%\n",
      "Japan              8.0%\n",
      "China              7.0%\n",
      "Indonesia          5.0%\n",
      "Taiwan             4.0%\n",
      "Thailand           4.0%\n",
      "India              3.0%\n",
      "New Zealand        2.0%\n",
      "dtype: object\n"
     ]
    }
   ],
   "source": [
    "print(round(df[categorical].loc[:,'sales_channel'].to_frame().value_counts(normalize = True)*100,0).astype(str) + \"%\")\n",
    "print(round(df[categorical].loc[:,'trip_type'].to_frame().value_counts(normalize = True)*100,0).astype(str) + \"%\")\n",
    "print(round(df[categorical].loc[:,'flight_day'].to_frame().value_counts(normalize = True)*100,0).astype(str) + \"%\")\n",
    "print((round(df[categorical].loc[:,'route'].to_frame().value_counts(normalize = True)*100,0).astype(str) + \"%\")[:5])\n",
    "print((round(df[categorical].loc[:,'booking_origin'].to_frame().value_counts(normalize = True)*100,0).astype(str) + \"%\")[:10])"
   ]
  },
  {
   "cell_type": "code",
   "execution_count": 7,
   "id": "54fcd4b0",
   "metadata": {},
   "outputs": [
    {
     "data": {
      "text/plain": [
       "0    85.0%\n",
       "1    15.0%\n",
       "Name: booking_complete, dtype: object"
      ]
     },
     "execution_count": 7,
     "metadata": {},
     "output_type": "execute_result"
    }
   ],
   "source": [
    "#Explore the target variable (booking_complete)\n",
    "round(df['booking_complete'].value_counts(normalize = True)*100,0).astype(str) + \"%\""
   ]
  },
  {
   "cell_type": "code",
   "execution_count": 8,
   "id": "38d64d38",
   "metadata": {},
   "outputs": [],
   "source": [
    "#naming the target variable\n",
    "mapping = {0:\"no booking completed\",\n",
    "1:\"booking completed\"}\n",
    "df['target names'] = df['booking_complete'].map(mapping)"
   ]
  },
  {
   "cell_type": "code",
   "execution_count": 9,
   "id": "80c432ef",
   "metadata": {},
   "outputs": [
    {
     "data": {
      "image/png": "[encoded data removed]",
      "text/plain": [
       "<Figure size 600x200 with 1 Axes>"
      ]
     },
     "metadata": {},
     "output_type": "display_data"
    }
   ],
   "source": [
    "plt.figure(figsize=(6, 2))\n",
    "ax = sns.countplot(y = \"target names\", data = df, palette = \"Set1\")\n",
    "ax.set_title(\"Frequency distribution of target variable\", fontsize = 12)\n",
    "plt.ylabel(\"target names\", fontsize = 12)\n",
    "plt.show()"
   ]
  },
  {
   "cell_type": "markdown",
   "id": "307a9906",
   "metadata": {},
   "source": [
    "85% of bookings did not get completed"
   ]
  },
  {
   "cell_type": "code",
   "execution_count": 11,
   "id": "6baeb6a4",
   "metadata": {},
   "outputs": [],
   "source": [
    "#Exploring numeric variables\n",
    "#plot correlation heatmap to find out correlations\n",
    "heatmap = df.drop(['booking_complete'], axis = 1).corr().style.format(\"{:.4}\").background_gradient(cmap=plt.get_cmap('coolwarm'), axis=1)"
   ]
  },
  {
   "cell_type": "code",
   "execution_count": 12,
   "id": "23be7a4d",
   "metadata": {},
   "outputs": [
    {
     "data": {
      "text/html": [
       "<style type=\"text/css\">\n",
       "#T_f4daa_row0_col0, #T_f4daa_row1_col1, #T_f4daa_row2_col2, #T_f4daa_row3_col3, #T_f4daa_row4_col4, #T_f4daa_row5_col5, #T_f4daa_row6_col6, #T_f4daa_row7_col7 {\n",
       "  background-color: #b40426;\n",
       "  color: #f1f1f1;\n",
       "}\n",
       "#T_f4daa_row0_col1 {\n",
       "  background-color: #9dbdff;\n",
       "  color: #000000;\n",
       "}\n",
       "#T_f4daa_row0_col2, #T_f4daa_row1_col2, #T_f4daa_row2_col0, #T_f4daa_row3_col2, #T_f4daa_row4_col1, #T_f4daa_row5_col1, #T_f4daa_row6_col1, #T_f4daa_row7_col0 {\n",
       "  background-color: #3b4cc0;\n",
       "  color: #f1f1f1;\n",
       "}\n",
       "#T_f4daa_row0_col3, #T_f4daa_row6_col2 {\n",
       "  background-color: #5f7fe8;\n",
       "  color: #f1f1f1;\n",
       "}\n",
       "#T_f4daa_row0_col4, #T_f4daa_row5_col4 {\n",
       "  background-color: #80a3fa;\n",
       "  color: #f1f1f1;\n",
       "}\n",
       "#T_f4daa_row0_col5, #T_f4daa_row2_col5 {\n",
       "  background-color: #6384eb;\n",
       "  color: #f1f1f1;\n",
       "}\n",
       "#T_f4daa_row0_col6, #T_f4daa_row7_col1 {\n",
       "  background-color: #6180e9;\n",
       "  color: #f1f1f1;\n",
       "}\n",
       "#T_f4daa_row0_col7, #T_f4daa_row1_col4, #T_f4daa_row1_col6 {\n",
       "  background-color: #4961d2;\n",
       "  color: #f1f1f1;\n",
       "}\n",
       "#T_f4daa_row1_col0 {\n",
       "  background-color: #93b5fe;\n",
       "  color: #000000;\n",
       "}\n",
       "#T_f4daa_row1_col3, #T_f4daa_row5_col7 {\n",
       "  background-color: #5a78e4;\n",
       "  color: #f1f1f1;\n",
       "}\n",
       "#T_f4daa_row1_col5 {\n",
       "  background-color: #4f69d9;\n",
       "  color: #f1f1f1;\n",
       "}\n",
       "#T_f4daa_row1_col7 {\n",
       "  background-color: #6485ec;\n",
       "  color: #f1f1f1;\n",
       "}\n",
       "#T_f4daa_row2_col1, #T_f4daa_row3_col5, #T_f4daa_row3_col6, #T_f4daa_row5_col2 {\n",
       "  background-color: #455cce;\n",
       "  color: #f1f1f1;\n",
       "}\n",
       "#T_f4daa_row2_col3 {\n",
       "  background-color: #536edd;\n",
       "  color: #f1f1f1;\n",
       "}\n",
       "#T_f4daa_row2_col4 {\n",
       "  background-color: #92b4fe;\n",
       "  color: #000000;\n",
       "}\n",
       "#T_f4daa_row2_col6, #T_f4daa_row4_col2, #T_f4daa_row7_col2 {\n",
       "  background-color: #799cf8;\n",
       "  color: #f1f1f1;\n",
       "}\n",
       "#T_f4daa_row2_col7 {\n",
       "  background-color: #85a8fc;\n",
       "  color: #f1f1f1;\n",
       "}\n",
       "#T_f4daa_row3_col0 {\n",
       "  background-color: #465ecf;\n",
       "  color: #f1f1f1;\n",
       "}\n",
       "#T_f4daa_row3_col1 {\n",
       "  background-color: #4c66d6;\n",
       "  color: #f1f1f1;\n",
       "}\n",
       "#T_f4daa_row3_col4 {\n",
       "  background-color: #3e51c5;\n",
       "  color: #f1f1f1;\n",
       "}\n",
       "#T_f4daa_row3_col7 {\n",
       "  background-color: #4055c8;\n",
       "  color: #f1f1f1;\n",
       "}\n",
       "#T_f4daa_row4_col0 {\n",
       "  background-color: #6687ed;\n",
       "  color: #f1f1f1;\n",
       "}\n",
       "#T_f4daa_row4_col3 {\n",
       "  background-color: #3d50c3;\n",
       "  color: #f1f1f1;\n",
       "}\n",
       "#T_f4daa_row4_col5 {\n",
       "  background-color: #84a7fc;\n",
       "  color: #f1f1f1;\n",
       "}\n",
       "#T_f4daa_row4_col6, #T_f4daa_row6_col4 {\n",
       "  background-color: #86a9fc;\n",
       "  color: #f1f1f1;\n",
       "}\n",
       "#T_f4daa_row4_col7 {\n",
       "  background-color: #516ddb;\n",
       "  color: #f1f1f1;\n",
       "}\n",
       "#T_f4daa_row5_col0, #T_f4daa_row6_col3 {\n",
       "  background-color: #445acc;\n",
       "  color: #f1f1f1;\n",
       "}\n",
       "#T_f4daa_row5_col3 {\n",
       "  background-color: #3f53c6;\n",
       "  color: #f1f1f1;\n",
       "}\n",
       "#T_f4daa_row5_col6 {\n",
       "  background-color: #a5c3fe;\n",
       "  color: #000000;\n",
       "}\n",
       "#T_f4daa_row6_col0 {\n",
       "  background-color: #485fd1;\n",
       "  color: #f1f1f1;\n",
       "}\n",
       "#T_f4daa_row6_col5 {\n",
       "  background-color: #a9c6fd;\n",
       "  color: #000000;\n",
       "}\n",
       "#T_f4daa_row6_col7 {\n",
       "  background-color: #7295f4;\n",
       "  color: #f1f1f1;\n",
       "}\n",
       "#T_f4daa_row7_col3 {\n",
       "  background-color: #4b64d5;\n",
       "  color: #f1f1f1;\n",
       "}\n",
       "#T_f4daa_row7_col4 {\n",
       "  background-color: #5d7ce6;\n",
       "  color: #f1f1f1;\n",
       "}\n",
       "#T_f4daa_row7_col5 {\n",
       "  background-color: #6b8df0;\n",
       "  color: #f1f1f1;\n",
       "}\n",
       "#T_f4daa_row7_col6 {\n",
       "  background-color: #7da0f9;\n",
       "  color: #f1f1f1;\n",
       "}\n",
       "</style>\n",
       "<table id=\"T_f4daa\">\n",
       "  <thead>\n",
       "    <tr>\n",
       "      <th class=\"blank level0\" >&nbsp;</th>\n",
       "      <th id=\"T_f4daa_level0_col0\" class=\"col_heading level0 col0\" >num_passengers</th>\n",
       "      <th id=\"T_f4daa_level0_col1\" class=\"col_heading level0 col1\" >purchase_lead</th>\n",
       "      <th id=\"T_f4daa_level0_col2\" class=\"col_heading level0 col2\" >length_of_stay</th>\n",
       "      <th id=\"T_f4daa_level0_col3\" class=\"col_heading level0 col3\" >flight_hour</th>\n",
       "      <th id=\"T_f4daa_level0_col4\" class=\"col_heading level0 col4\" >wants_extra_baggage</th>\n",
       "      <th id=\"T_f4daa_level0_col5\" class=\"col_heading level0 col5\" >wants_preferred_seat</th>\n",
       "      <th id=\"T_f4daa_level0_col6\" class=\"col_heading level0 col6\" >wants_in_flight_meals</th>\n",
       "      <th id=\"T_f4daa_level0_col7\" class=\"col_heading level0 col7\" >flight_duration</th>\n",
       "    </tr>\n",
       "  </thead>\n",
       "  <tbody>\n",
       "    <tr>\n",
       "      <th id=\"T_f4daa_level0_row0\" class=\"row_heading level0 row0\" >num_passengers</th>\n",
       "      <td id=\"T_f4daa_row0_col0\" class=\"data row0 col0\" >1.0</td>\n",
       "      <td id=\"T_f4daa_row0_col1\" class=\"data row0 col1\" >0.2126</td>\n",
       "      <td id=\"T_f4daa_row0_col2\" class=\"data row0 col2\" >-0.1158</td>\n",
       "      <td id=\"T_f4daa_row0_col3\" class=\"data row0 col3\" >0.01561</td>\n",
       "      <td id=\"T_f4daa_row0_col4\" class=\"data row0 col4\" >0.1204</td>\n",
       "      <td id=\"T_f4daa_row0_col5\" class=\"data row0 col5\" >0.02854</td>\n",
       "      <td id=\"T_f4daa_row0_col6\" class=\"data row0 col6\" >0.02294</td>\n",
       "      <td id=\"T_f4daa_row0_col7\" class=\"data row0 col7\" >-0.06317</td>\n",
       "    </tr>\n",
       "    <tr>\n",
       "      <th id=\"T_f4daa_level0_row1\" class=\"row_heading level0 row1\" >purchase_lead</th>\n",
       "      <td id=\"T_f4daa_row1_col0\" class=\"data row1 col0\" >0.2126</td>\n",
       "      <td id=\"T_f4daa_row1_col1\" class=\"data row1 col1\" >1.0</td>\n",
       "      <td id=\"T_f4daa_row1_col2\" class=\"data row1 col2\" >-0.07656</td>\n",
       "      <td id=\"T_f4daa_row1_col3\" class=\"data row1 col3\" >0.03597</td>\n",
       "      <td id=\"T_f4daa_row1_col4\" class=\"data row1 col4\" >-0.02221</td>\n",
       "      <td id=\"T_f4daa_row1_col5\" class=\"data row1 col5\" >-0.004499</td>\n",
       "      <td id=\"T_f4daa_row1_col6\" class=\"data row1 col6\" >-0.02265</td>\n",
       "      <td id=\"T_f4daa_row1_col7\" class=\"data row1 col7\" >0.06787</td>\n",
       "    </tr>\n",
       "    <tr>\n",
       "      <th id=\"T_f4daa_level0_row2\" class=\"row_heading level0 row2\" >length_of_stay</th>\n",
       "      <td id=\"T_f4daa_row2_col0\" class=\"data row2 col0\" >-0.1158</td>\n",
       "      <td id=\"T_f4daa_row2_col1\" class=\"data row2 col1\" >-0.07656</td>\n",
       "      <td id=\"T_f4daa_row2_col2\" class=\"data row2 col2\" >1.0</td>\n",
       "      <td id=\"T_f4daa_row2_col3\" class=\"data row2 col3\" >-0.02487</td>\n",
       "      <td id=\"T_f4daa_row2_col4\" class=\"data row2 col4\" >0.1768</td>\n",
       "      <td id=\"T_f4daa_row2_col5\" class=\"data row2 col5\" >0.03226</td>\n",
       "      <td id=\"T_f4daa_row2_col6\" class=\"data row2 col6\" >0.09883</td>\n",
       "      <td id=\"T_f4daa_row2_col7\" class=\"data row2 col7\" >0.1412</td>\n",
       "    </tr>\n",
       "    <tr>\n",
       "      <th id=\"T_f4daa_level0_row3\" class=\"row_heading level0 row3\" >flight_hour</th>\n",
       "      <td id=\"T_f4daa_row3_col0\" class=\"data row3 col0\" >0.01561</td>\n",
       "      <td id=\"T_f4daa_row3_col1\" class=\"data row3 col1\" >0.03597</td>\n",
       "      <td id=\"T_f4daa_row3_col2\" class=\"data row3 col2\" >-0.02487</td>\n",
       "      <td id=\"T_f4daa_row3_col3\" class=\"data row3 col3\" >1.0</td>\n",
       "      <td id=\"T_f4daa_row3_col4\" class=\"data row3 col4\" >-0.01143</td>\n",
       "      <td id=\"T_f4daa_row3_col5\" class=\"data row3 col5\" >0.01217</td>\n",
       "      <td id=\"T_f4daa_row3_col6\" class=\"data row3 col6\" >0.01301</td>\n",
       "      <td id=\"T_f4daa_row3_col7\" class=\"data row3 col7\" >-0.002101</td>\n",
       "    </tr>\n",
       "    <tr>\n",
       "      <th id=\"T_f4daa_level0_row4\" class=\"row_heading level0 row4\" >wants_extra_baggage</th>\n",
       "      <td id=\"T_f4daa_row4_col0\" class=\"data row4 col0\" >0.1204</td>\n",
       "      <td id=\"T_f4daa_row4_col1\" class=\"data row4 col1\" >-0.02221</td>\n",
       "      <td id=\"T_f4daa_row4_col2\" class=\"data row4 col2\" >0.1768</td>\n",
       "      <td id=\"T_f4daa_row4_col3\" class=\"data row4 col3\" >-0.01143</td>\n",
       "      <td id=\"T_f4daa_row4_col4\" class=\"data row4 col4\" >1.0</td>\n",
       "      <td id=\"T_f4daa_row4_col5\" class=\"data row4 col5\" >0.2077</td>\n",
       "      <td id=\"T_f4daa_row4_col6\" class=\"data row4 col6\" >0.2165</td>\n",
       "      <td id=\"T_f4daa_row4_col7\" class=\"data row4 col7\" >0.05705</td>\n",
       "    </tr>\n",
       "    <tr>\n",
       "      <th id=\"T_f4daa_level0_row5\" class=\"row_heading level0 row5\" >wants_preferred_seat</th>\n",
       "      <td id=\"T_f4daa_row5_col0\" class=\"data row5 col0\" >0.02854</td>\n",
       "      <td id=\"T_f4daa_row5_col1\" class=\"data row5 col1\" >-0.004499</td>\n",
       "      <td id=\"T_f4daa_row5_col2\" class=\"data row5 col2\" >0.03226</td>\n",
       "      <td id=\"T_f4daa_row5_col3\" class=\"data row5 col3\" >0.01217</td>\n",
       "      <td id=\"T_f4daa_row5_col4\" class=\"data row5 col4\" >0.2077</td>\n",
       "      <td id=\"T_f4daa_row5_col5\" class=\"data row5 col5\" >1.0</td>\n",
       "      <td id=\"T_f4daa_row5_col6\" class=\"data row5 col6\" >0.3151</td>\n",
       "      <td id=\"T_f4daa_row5_col7\" class=\"data row5 col7\" >0.1013</td>\n",
       "    </tr>\n",
       "    <tr>\n",
       "      <th id=\"T_f4daa_level0_row6\" class=\"row_heading level0 row6\" >wants_in_flight_meals</th>\n",
       "      <td id=\"T_f4daa_row6_col0\" class=\"data row6 col0\" >0.02294</td>\n",
       "      <td id=\"T_f4daa_row6_col1\" class=\"data row6 col1\" >-0.02265</td>\n",
       "      <td id=\"T_f4daa_row6_col2\" class=\"data row6 col2\" >0.09883</td>\n",
       "      <td id=\"T_f4daa_row6_col3\" class=\"data row6 col3\" >0.01301</td>\n",
       "      <td id=\"T_f4daa_row6_col4\" class=\"data row6 col4\" >0.2165</td>\n",
       "      <td id=\"T_f4daa_row6_col5\" class=\"data row6 col5\" >0.3151</td>\n",
       "      <td id=\"T_f4daa_row6_col6\" class=\"data row6 col6\" >1.0</td>\n",
       "      <td id=\"T_f4daa_row6_col7\" class=\"data row6 col7\" >0.1543</td>\n",
       "    </tr>\n",
       "    <tr>\n",
       "      <th id=\"T_f4daa_level0_row7\" class=\"row_heading level0 row7\" >flight_duration</th>\n",
       "      <td id=\"T_f4daa_row7_col0\" class=\"data row7 col0\" >-0.06317</td>\n",
       "      <td id=\"T_f4daa_row7_col1\" class=\"data row7 col1\" >0.06787</td>\n",
       "      <td id=\"T_f4daa_row7_col2\" class=\"data row7 col2\" >0.1412</td>\n",
       "      <td id=\"T_f4daa_row7_col3\" class=\"data row7 col3\" >-0.002101</td>\n",
       "      <td id=\"T_f4daa_row7_col4\" class=\"data row7 col4\" >0.05705</td>\n",
       "      <td id=\"T_f4daa_row7_col5\" class=\"data row7 col5\" >0.1013</td>\n",
       "      <td id=\"T_f4daa_row7_col6\" class=\"data row7 col6\" >0.1543</td>\n",
       "      <td id=\"T_f4daa_row7_col7\" class=\"data row7 col7\" >1.0</td>\n",
       "    </tr>\n",
       "  </tbody>\n",
       "</table>\n"
      ],
      "text/plain": [
       "<pandas.io.formats.style.Styler at 0x1477e97ab00>"
      ]
     },
     "execution_count": 12,
     "metadata": {},
     "output_type": "execute_result"
    }
   ],
   "source": [
    "heatmap"
   ]
  },
  {
   "cell_type": "markdown",
   "id": "13b75f0b",
   "metadata": {},
   "source": [
    "We can see that there is no strong correlation between the numeric variables."
   ]
  },
  {
   "cell_type": "code",
   "execution_count": null,
   "id": "3feba7e7",
   "metadata": {},
   "outputs": [],
   "source": []
  },
  {
   "cell_type": "markdown",
   "id": "900b10bd",
   "metadata": {},
   "source": [
    "# Declare feature vector and target variable"
   ]
  },
  {
   "cell_type": "code",
   "execution_count": 13,
   "id": "0b1f8fa9",
   "metadata": {},
   "outputs": [],
   "source": [
    "X = df.drop(['booking_complete', 'target names'], axis=1)\n",
    "\n",
    "y = df['booking_complete']"
   ]
  },
  {
   "cell_type": "code",
   "execution_count": 14,
   "id": "59ef04b3",
   "metadata": {},
   "outputs": [
    {
     "data": {
      "text/html": [
       "<div>\n",
       "<style scoped>\n",
       "    .dataframe tbody tr th:only-of-type {\n",
       "        vertical-align: middle;\n",
       "    }\n",
       "\n",
       "    .dataframe tbody tr th {\n",
       "        vertical-align: top;\n",
       "    }\n",
       "\n",
       "    .dataframe thead th {\n",
       "        text-align: right;\n",
       "    }\n",
       "</style>\n",
       "<table border=\"1\" class=\"dataframe\">\n",
       "  <thead>\n",
       "    <tr style=\"text-align: right;\">\n",
       "      <th></th>\n",
       "      <th>num_passengers</th>\n",
       "      <th>sales_channel</th>\n",
       "      <th>trip_type</th>\n",
       "      <th>purchase_lead</th>\n",
       "      <th>length_of_stay</th>\n",
       "      <th>flight_hour</th>\n",
       "      <th>flight_day</th>\n",
       "      <th>route</th>\n",
       "      <th>booking_origin</th>\n",
       "      <th>wants_extra_baggage</th>\n",
       "      <th>wants_preferred_seat</th>\n",
       "      <th>wants_in_flight_meals</th>\n",
       "      <th>flight_duration</th>\n",
       "    </tr>\n",
       "  </thead>\n",
       "  <tbody>\n",
       "    <tr>\n",
       "      <th>0</th>\n",
       "      <td>2</td>\n",
       "      <td>Internet</td>\n",
       "      <td>RoundTrip</td>\n",
       "      <td>262</td>\n",
       "      <td>19</td>\n",
       "      <td>7</td>\n",
       "      <td>Sat</td>\n",
       "      <td>AKLDEL</td>\n",
       "      <td>New Zealand</td>\n",
       "      <td>1</td>\n",
       "      <td>0</td>\n",
       "      <td>0</td>\n",
       "      <td>5.52</td>\n",
       "    </tr>\n",
       "    <tr>\n",
       "      <th>1</th>\n",
       "      <td>1</td>\n",
       "      <td>Internet</td>\n",
       "      <td>RoundTrip</td>\n",
       "      <td>112</td>\n",
       "      <td>20</td>\n",
       "      <td>3</td>\n",
       "      <td>Sat</td>\n",
       "      <td>AKLDEL</td>\n",
       "      <td>New Zealand</td>\n",
       "      <td>0</td>\n",
       "      <td>0</td>\n",
       "      <td>0</td>\n",
       "      <td>5.52</td>\n",
       "    </tr>\n",
       "    <tr>\n",
       "      <th>2</th>\n",
       "      <td>2</td>\n",
       "      <td>Internet</td>\n",
       "      <td>RoundTrip</td>\n",
       "      <td>243</td>\n",
       "      <td>22</td>\n",
       "      <td>17</td>\n",
       "      <td>Wed</td>\n",
       "      <td>AKLDEL</td>\n",
       "      <td>India</td>\n",
       "      <td>1</td>\n",
       "      <td>1</td>\n",
       "      <td>0</td>\n",
       "      <td>5.52</td>\n",
       "    </tr>\n",
       "    <tr>\n",
       "      <th>3</th>\n",
       "      <td>1</td>\n",
       "      <td>Internet</td>\n",
       "      <td>RoundTrip</td>\n",
       "      <td>96</td>\n",
       "      <td>31</td>\n",
       "      <td>4</td>\n",
       "      <td>Sat</td>\n",
       "      <td>AKLDEL</td>\n",
       "      <td>New Zealand</td>\n",
       "      <td>0</td>\n",
       "      <td>0</td>\n",
       "      <td>1</td>\n",
       "      <td>5.52</td>\n",
       "    </tr>\n",
       "    <tr>\n",
       "      <th>4</th>\n",
       "      <td>2</td>\n",
       "      <td>Internet</td>\n",
       "      <td>RoundTrip</td>\n",
       "      <td>68</td>\n",
       "      <td>22</td>\n",
       "      <td>15</td>\n",
       "      <td>Wed</td>\n",
       "      <td>AKLDEL</td>\n",
       "      <td>India</td>\n",
       "      <td>1</td>\n",
       "      <td>0</td>\n",
       "      <td>1</td>\n",
       "      <td>5.52</td>\n",
       "    </tr>\n",
       "  </tbody>\n",
       "</table>\n",
       "</div>"
      ],
      "text/plain": [
       "   num_passengers sales_channel  trip_type  purchase_lead  length_of_stay  \\\n",
       "0               2      Internet  RoundTrip            262              19   \n",
       "1               1      Internet  RoundTrip            112              20   \n",
       "2               2      Internet  RoundTrip            243              22   \n",
       "3               1      Internet  RoundTrip             96              31   \n",
       "4               2      Internet  RoundTrip             68              22   \n",
       "\n",
       "   flight_hour flight_day   route booking_origin  wants_extra_baggage  \\\n",
       "0            7        Sat  AKLDEL    New Zealand                    1   \n",
       "1            3        Sat  AKLDEL    New Zealand                    0   \n",
       "2           17        Wed  AKLDEL          India                    1   \n",
       "3            4        Sat  AKLDEL    New Zealand                    0   \n",
       "4           15        Wed  AKLDEL          India                    1   \n",
       "\n",
       "   wants_preferred_seat  wants_in_flight_meals  flight_duration  \n",
       "0                     0                      0             5.52  \n",
       "1                     0                      0             5.52  \n",
       "2                     1                      0             5.52  \n",
       "3                     0                      1             5.52  \n",
       "4                     0                      1             5.52  "
      ]
     },
     "execution_count": 14,
     "metadata": {},
     "output_type": "execute_result"
    }
   ],
   "source": [
    "X.head()"
   ]
  },
  {
   "cell_type": "code",
   "execution_count": 15,
   "id": "ea31a4fc",
   "metadata": {},
   "outputs": [
    {
     "data": {
      "text/plain": [
       "0    0\n",
       "1    0\n",
       "2    0\n",
       "3    0\n",
       "4    0\n",
       "Name: booking_complete, dtype: int64"
      ]
     },
     "execution_count": 15,
     "metadata": {},
     "output_type": "execute_result"
    }
   ],
   "source": [
    "y.head()"
   ]
  },
  {
   "cell_type": "code",
   "execution_count": null,
   "id": "0e0d1b31",
   "metadata": {},
   "outputs": [],
   "source": []
  },
  {
   "cell_type": "markdown",
   "id": "97049195",
   "metadata": {},
   "source": [
    "# Split data into separate training and test set "
   ]
  },
  {
   "cell_type": "code",
   "execution_count": 16,
   "id": "e6422d43",
   "metadata": {},
   "outputs": [],
   "source": [
    "X_train, X_test, y_train, y_test = train_test_split(X,y, test_size = 0.3, random_state = 3, stratify = y)"
   ]
  },
  {
   "cell_type": "code",
   "execution_count": 17,
   "id": "ad6f617a",
   "metadata": {},
   "outputs": [
    {
     "name": "stdout",
     "output_type": "stream",
     "text": [
      "(50000, 13)\n",
      "(35000, 13)\n",
      "(15000, 13)\n"
     ]
    }
   ],
   "source": [
    "# check the shape of X_train and X_test\n",
    "print(X.shape)\n",
    "print(X_train.shape)\n",
    "print(X_test.shape)"
   ]
  },
  {
   "cell_type": "code",
   "execution_count": 18,
   "id": "a729e699",
   "metadata": {},
   "outputs": [
    {
     "name": "stdout",
     "output_type": "stream",
     "text": [
      "(50000,)\n",
      "(35000,)\n",
      "(15000,)\n"
     ]
    }
   ],
   "source": [
    "# check the shape of y_train and y_test\n",
    "print(y.shape)\n",
    "print(y_train.shape)\n",
    "print(y_test.shape)"
   ]
  },
  {
   "cell_type": "code",
   "execution_count": null,
   "id": "defa55ea",
   "metadata": {},
   "outputs": [],
   "source": []
  },
  {
   "cell_type": "markdown",
   "id": "d16ea54b",
   "metadata": {},
   "source": [
    "# Feature Engineering"
   ]
  },
  {
   "cell_type": "markdown",
   "id": "11994356",
   "metadata": {},
   "source": [
    "Feature Engineering is the process of transforming raw data into useful features that help us to understand our model better and increase its predictive power."
   ]
  },
  {
   "cell_type": "code",
   "execution_count": 19,
   "id": "a834111b",
   "metadata": {},
   "outputs": [
    {
     "data": {
      "text/plain": [
       "['sales_channel', 'trip_type', 'flight_day', 'route', 'booking_origin']"
      ]
     },
     "execution_count": 19,
     "metadata": {},
     "output_type": "execute_result"
    }
   ],
   "source": [
    "# Display categorical variables in training set\n",
    "categorical = [col for col in X_train.columns if X_train[col].dtypes == 'O']\n",
    "\n",
    "categorical"
   ]
  },
  {
   "cell_type": "code",
   "execution_count": 20,
   "id": "b332127f",
   "metadata": {},
   "outputs": [
    {
     "data": {
      "text/plain": [
       "['num_passengers',\n",
       " 'purchase_lead',\n",
       " 'length_of_stay',\n",
       " 'flight_hour',\n",
       " 'wants_extra_baggage',\n",
       " 'wants_preferred_seat',\n",
       " 'wants_in_flight_meals',\n",
       " 'flight_duration']"
      ]
     },
     "execution_count": 20,
     "metadata": {},
     "output_type": "execute_result"
    }
   ],
   "source": [
    "# Display numerical variables in training set\n",
    "numerical = [col for col in X_train.columns if X_train[col].dtypes != 'O']\n",
    "\n",
    "numerical"
   ]
  },
  {
   "cell_type": "code",
   "execution_count": 21,
   "id": "1065d0f5",
   "metadata": {},
   "outputs": [
    {
     "data": {
      "text/html": [
       "<div>\n",
       "<style scoped>\n",
       "    .dataframe tbody tr th:only-of-type {\n",
       "        vertical-align: middle;\n",
       "    }\n",
       "\n",
       "    .dataframe tbody tr th {\n",
       "        vertical-align: top;\n",
       "    }\n",
       "\n",
       "    .dataframe thead th {\n",
       "        text-align: right;\n",
       "    }\n",
       "</style>\n",
       "<table border=\"1\" class=\"dataframe\">\n",
       "  <thead>\n",
       "    <tr style=\"text-align: right;\">\n",
       "      <th></th>\n",
       "      <th>sales_channel</th>\n",
       "      <th>trip_type</th>\n",
       "      <th>flight_day</th>\n",
       "      <th>route</th>\n",
       "      <th>booking_origin</th>\n",
       "    </tr>\n",
       "  </thead>\n",
       "  <tbody>\n",
       "    <tr>\n",
       "      <th>20888</th>\n",
       "      <td>Internet</td>\n",
       "      <td>RoundTrip</td>\n",
       "      <td>Thu</td>\n",
       "      <td>MELTRZ</td>\n",
       "      <td>Australia</td>\n",
       "    </tr>\n",
       "    <tr>\n",
       "      <th>4417</th>\n",
       "      <td>Internet</td>\n",
       "      <td>RoundTrip</td>\n",
       "      <td>Mon</td>\n",
       "      <td>CGKSYD</td>\n",
       "      <td>Indonesia</td>\n",
       "    </tr>\n",
       "    <tr>\n",
       "      <th>1322</th>\n",
       "      <td>Mobile</td>\n",
       "      <td>RoundTrip</td>\n",
       "      <td>Tue</td>\n",
       "      <td>AKLKUL</td>\n",
       "      <td>New Zealand</td>\n",
       "    </tr>\n",
       "    <tr>\n",
       "      <th>20367</th>\n",
       "      <td>Internet</td>\n",
       "      <td>RoundTrip</td>\n",
       "      <td>Fri</td>\n",
       "      <td>MELSGN</td>\n",
       "      <td>Australia</td>\n",
       "    </tr>\n",
       "    <tr>\n",
       "      <th>35791</th>\n",
       "      <td>Mobile</td>\n",
       "      <td>RoundTrip</td>\n",
       "      <td>Sun</td>\n",
       "      <td>CGKKIX</td>\n",
       "      <td>Indonesia</td>\n",
       "    </tr>\n",
       "  </tbody>\n",
       "</table>\n",
       "</div>"
      ],
      "text/plain": [
       "      sales_channel  trip_type flight_day   route booking_origin\n",
       "20888      Internet  RoundTrip        Thu  MELTRZ      Australia\n",
       "4417       Internet  RoundTrip        Mon  CGKSYD      Indonesia\n",
       "1322         Mobile  RoundTrip        Tue  AKLKUL    New Zealand\n",
       "20367      Internet  RoundTrip        Fri  MELSGN      Australia\n",
       "35791        Mobile  RoundTrip        Sun  CGKKIX      Indonesia"
      ]
     },
     "execution_count": 21,
     "metadata": {},
     "output_type": "execute_result"
    }
   ],
   "source": [
    "# preview categorical variables in X_train\n",
    "X_train[categorical].head()"
   ]
  },
  {
   "cell_type": "code",
   "execution_count": 22,
   "id": "c55e158c",
   "metadata": {},
   "outputs": [],
   "source": [
    "# encode categorical variables with one-hot encoding\n",
    "encoder = ce.OneHotEncoder(cols = [\"sales_channel\", \"trip_type\", \"flight_day\", \"route\", \"booking_origin\"])\n",
    "X_train_encode = encoder.fit_transform(X_train)\n",
    "X_test_encode = encoder.transform(X_test)"
   ]
  },
  {
   "cell_type": "code",
   "execution_count": 23,
   "id": "fcc8c149",
   "metadata": {},
   "outputs": [
    {
     "name": "stdout",
     "output_type": "stream",
     "text": [
      "(35000, 886)\n",
      "(15000, 886)\n"
     ]
    }
   ],
   "source": [
    "print(X_train_encode.shape)\n",
    "print(X_test_encode.shape)"
   ]
  },
  {
   "cell_type": "code",
   "execution_count": 24,
   "id": "53ebecef",
   "metadata": {
    "scrolled": true
   },
   "outputs": [
    {
     "data": {
      "text/html": [
       "<div>\n",
       "<style scoped>\n",
       "    .dataframe tbody tr th:only-of-type {\n",
       "        vertical-align: middle;\n",
       "    }\n",
       "\n",
       "    .dataframe tbody tr th {\n",
       "        vertical-align: top;\n",
       "    }\n",
       "\n",
       "    .dataframe thead th {\n",
       "        text-align: right;\n",
       "    }\n",
       "</style>\n",
       "<table border=\"1\" class=\"dataframe\">\n",
       "  <thead>\n",
       "    <tr style=\"text-align: right;\">\n",
       "      <th></th>\n",
       "      <th>num_passengers</th>\n",
       "      <th>sales_channel_1</th>\n",
       "      <th>sales_channel_2</th>\n",
       "      <th>trip_type_1</th>\n",
       "      <th>trip_type_2</th>\n",
       "      <th>trip_type_3</th>\n",
       "      <th>purchase_lead</th>\n",
       "      <th>length_of_stay</th>\n",
       "      <th>flight_hour</th>\n",
       "      <th>flight_day_1</th>\n",
       "      <th>...</th>\n",
       "      <th>booking_origin_84</th>\n",
       "      <th>booking_origin_85</th>\n",
       "      <th>booking_origin_86</th>\n",
       "      <th>booking_origin_87</th>\n",
       "      <th>booking_origin_88</th>\n",
       "      <th>booking_origin_89</th>\n",
       "      <th>wants_extra_baggage</th>\n",
       "      <th>wants_preferred_seat</th>\n",
       "      <th>wants_in_flight_meals</th>\n",
       "      <th>flight_duration</th>\n",
       "    </tr>\n",
       "  </thead>\n",
       "  <tbody>\n",
       "    <tr>\n",
       "      <th>20888</th>\n",
       "      <td>1</td>\n",
       "      <td>1</td>\n",
       "      <td>0</td>\n",
       "      <td>1</td>\n",
       "      <td>0</td>\n",
       "      <td>0</td>\n",
       "      <td>6</td>\n",
       "      <td>57</td>\n",
       "      <td>3</td>\n",
       "      <td>1</td>\n",
       "      <td>...</td>\n",
       "      <td>0</td>\n",
       "      <td>0</td>\n",
       "      <td>0</td>\n",
       "      <td>0</td>\n",
       "      <td>0</td>\n",
       "      <td>0</td>\n",
       "      <td>0</td>\n",
       "      <td>0</td>\n",
       "      <td>0</td>\n",
       "      <td>8.83</td>\n",
       "    </tr>\n",
       "    <tr>\n",
       "      <th>4417</th>\n",
       "      <td>1</td>\n",
       "      <td>1</td>\n",
       "      <td>0</td>\n",
       "      <td>1</td>\n",
       "      <td>0</td>\n",
       "      <td>0</td>\n",
       "      <td>63</td>\n",
       "      <td>19</td>\n",
       "      <td>2</td>\n",
       "      <td>0</td>\n",
       "      <td>...</td>\n",
       "      <td>0</td>\n",
       "      <td>0</td>\n",
       "      <td>0</td>\n",
       "      <td>0</td>\n",
       "      <td>0</td>\n",
       "      <td>0</td>\n",
       "      <td>0</td>\n",
       "      <td>1</td>\n",
       "      <td>0</td>\n",
       "      <td>8.58</td>\n",
       "    </tr>\n",
       "    <tr>\n",
       "      <th>1322</th>\n",
       "      <td>1</td>\n",
       "      <td>0</td>\n",
       "      <td>1</td>\n",
       "      <td>1</td>\n",
       "      <td>0</td>\n",
       "      <td>0</td>\n",
       "      <td>96</td>\n",
       "      <td>30</td>\n",
       "      <td>3</td>\n",
       "      <td>0</td>\n",
       "      <td>...</td>\n",
       "      <td>0</td>\n",
       "      <td>0</td>\n",
       "      <td>0</td>\n",
       "      <td>0</td>\n",
       "      <td>0</td>\n",
       "      <td>0</td>\n",
       "      <td>1</td>\n",
       "      <td>0</td>\n",
       "      <td>1</td>\n",
       "      <td>8.83</td>\n",
       "    </tr>\n",
       "    <tr>\n",
       "      <th>20367</th>\n",
       "      <td>1</td>\n",
       "      <td>1</td>\n",
       "      <td>0</td>\n",
       "      <td>1</td>\n",
       "      <td>0</td>\n",
       "      <td>0</td>\n",
       "      <td>125</td>\n",
       "      <td>23</td>\n",
       "      <td>10</td>\n",
       "      <td>0</td>\n",
       "      <td>...</td>\n",
       "      <td>0</td>\n",
       "      <td>0</td>\n",
       "      <td>0</td>\n",
       "      <td>0</td>\n",
       "      <td>0</td>\n",
       "      <td>0</td>\n",
       "      <td>1</td>\n",
       "      <td>0</td>\n",
       "      <td>0</td>\n",
       "      <td>8.83</td>\n",
       "    </tr>\n",
       "    <tr>\n",
       "      <th>35791</th>\n",
       "      <td>1</td>\n",
       "      <td>0</td>\n",
       "      <td>1</td>\n",
       "      <td>1</td>\n",
       "      <td>0</td>\n",
       "      <td>0</td>\n",
       "      <td>12</td>\n",
       "      <td>5</td>\n",
       "      <td>8</td>\n",
       "      <td>0</td>\n",
       "      <td>...</td>\n",
       "      <td>0</td>\n",
       "      <td>0</td>\n",
       "      <td>0</td>\n",
       "      <td>0</td>\n",
       "      <td>0</td>\n",
       "      <td>0</td>\n",
       "      <td>0</td>\n",
       "      <td>0</td>\n",
       "      <td>0</td>\n",
       "      <td>7.00</td>\n",
       "    </tr>\n",
       "  </tbody>\n",
       "</table>\n",
       "<p>5 rows × 886 columns</p>\n",
       "</div>"
      ],
      "text/plain": [
       "       num_passengers  sales_channel_1  sales_channel_2  trip_type_1  \\\n",
       "20888               1                1                0            1   \n",
       "4417                1                1                0            1   \n",
       "1322                1                0                1            1   \n",
       "20367               1                1                0            1   \n",
       "35791               1                0                1            1   \n",
       "\n",
       "       trip_type_2  trip_type_3  purchase_lead  length_of_stay  flight_hour  \\\n",
       "20888            0            0              6              57            3   \n",
       "4417             0            0             63              19            2   \n",
       "1322             0            0             96              30            3   \n",
       "20367            0            0            125              23           10   \n",
       "35791            0            0             12               5            8   \n",
       "\n",
       "       flight_day_1  ...  booking_origin_84  booking_origin_85  \\\n",
       "20888             1  ...                  0                  0   \n",
       "4417              0  ...                  0                  0   \n",
       "1322              0  ...                  0                  0   \n",
       "20367             0  ...                  0                  0   \n",
       "35791             0  ...                  0                  0   \n",
       "\n",
       "       booking_origin_86  booking_origin_87  booking_origin_88  \\\n",
       "20888                  0                  0                  0   \n",
       "4417                   0                  0                  0   \n",
       "1322                   0                  0                  0   \n",
       "20367                  0                  0                  0   \n",
       "35791                  0                  0                  0   \n",
       "\n",
       "       booking_origin_89  wants_extra_baggage  wants_preferred_seat  \\\n",
       "20888                  0                    0                     0   \n",
       "4417                   0                    0                     1   \n",
       "1322                   0                    1                     0   \n",
       "20367                  0                    1                     0   \n",
       "35791                  0                    0                     0   \n",
       "\n",
       "       wants_in_flight_meals  flight_duration  \n",
       "20888                      0             8.83  \n",
       "4417                       0             8.58  \n",
       "1322                       1             8.83  \n",
       "20367                      0             8.83  \n",
       "35791                      0             7.00  \n",
       "\n",
       "[5 rows x 886 columns]"
      ]
     },
     "execution_count": 24,
     "metadata": {},
     "output_type": "execute_result"
    }
   ],
   "source": [
    "X_train_encode.head()"
   ]
  },
  {
   "cell_type": "code",
   "execution_count": null,
   "id": "76989a17",
   "metadata": {},
   "outputs": [],
   "source": []
  },
  {
   "cell_type": "markdown",
   "id": "72212e0c",
   "metadata": {},
   "source": [
    "# Using Random Forest Classifier for predictive modelling"
   ]
  },
  {
   "cell_type": "code",
   "execution_count": 25,
   "id": "f9e6e334",
   "metadata": {},
   "outputs": [],
   "source": [
    "rf = RandomForestClassifier(random_state = 0, n_estimators = 100) #The number of trees in the forest is 100"
   ]
  },
  {
   "cell_type": "code",
   "execution_count": 26,
   "id": "a036ac7d",
   "metadata": {},
   "outputs": [
    {
     "name": "stdout",
     "output_type": "stream",
     "text": [
      "0.8496\n"
     ]
    }
   ],
   "source": [
    "rf.fit(X_train_encode, y_train) #Fit the model\n",
    "y_pred = rf.predict(X_test_encode) #Predict the Test set results\n",
    "accuracy = accuracy_score(y_test, y_pred) #Check accuracy score \n",
    "print(accuracy)"
   ]
  },
  {
   "cell_type": "markdown",
   "id": "b56239bb",
   "metadata": {},
   "source": [
    "Model accuracy score with 100 decision-trees : 0.8496"
   ]
  },
  {
   "cell_type": "markdown",
   "id": "06af7202",
   "metadata": {},
   "source": [
    "Using 10 and 200 decision-trees to see its effect on accuracy of the model"
   ]
  },
  {
   "cell_type": "code",
   "execution_count": 27,
   "id": "d56315fc",
   "metadata": {},
   "outputs": [],
   "source": [
    "rf1 = RandomForestClassifier(random_state = 0, n_estimators = 10) #The number of trees in the forest is 10"
   ]
  },
  {
   "cell_type": "code",
   "execution_count": 28,
   "id": "416735e8",
   "metadata": {},
   "outputs": [
    {
     "name": "stdout",
     "output_type": "stream",
     "text": [
      "0.8479333333333333\n"
     ]
    }
   ],
   "source": [
    "rf1.fit(X_train_encode, y_train) #Fit the model\n",
    "y_pred1 = rf1.predict(X_test_encode) #Predict the Test set results\n",
    "accuracy1 = accuracy_score(y_test, y_pred1) #Check accuracy score \n",
    "print(accuracy1)"
   ]
  },
  {
   "cell_type": "code",
   "execution_count": 29,
   "id": "477103dc",
   "metadata": {},
   "outputs": [],
   "source": [
    "rf2 = RandomForestClassifier(random_state = 0, n_estimators = 200) #The number of trees in the forest is 200"
   ]
  },
  {
   "cell_type": "code",
   "execution_count": 30,
   "id": "754eca70",
   "metadata": {},
   "outputs": [
    {
     "name": "stdout",
     "output_type": "stream",
     "text": [
      "0.8514666666666667\n"
     ]
    }
   ],
   "source": [
    "rf2.fit(X_train_encode, y_train) #Fit the model\n",
    "y_pred2 = rf2.predict(X_test_encode) #Predict the Test set results\n",
    "accuracy2 = accuracy_score(y_test, y_pred2) #Check accuracy score \n",
    "print(accuracy2)"
   ]
  },
  {
   "cell_type": "markdown",
   "id": "0b4a2ccf",
   "metadata": {},
   "source": [
    "Using 10 decision-trees, the accuracy is 0.8479 and for 200 decision-trees, the accuracy is 0.8515. \n",
    "Therefore, the accuracy increases with the number of decision trees in the model"
   ]
  },
  {
   "cell_type": "code",
   "execution_count": null,
   "id": "6536edce",
   "metadata": {},
   "outputs": [],
   "source": []
  },
  {
   "cell_type": "markdown",
   "id": "e40f8778",
   "metadata": {},
   "source": [
    "# Find important features with Random Forest model"
   ]
  },
  {
   "cell_type": "code",
   "execution_count": 31,
   "id": "9a164b2a",
   "metadata": {},
   "outputs": [
    {
     "data": {
      "text/plain": [
       "purchase_lead      1.439916e-01\n",
       "flight_hour        1.203732e-01\n",
       "length_of_stay     1.105579e-01\n",
       "num_passengers     4.736638e-02\n",
       "flight_duration    3.725936e-02\n",
       "                       ...     \n",
       "route_730          1.032786e-07\n",
       "route_596          2.000296e-08\n",
       "route_754          1.405189e-08\n",
       "route_770          1.213258e-08\n",
       "route_757          8.675848e-09\n",
       "Length: 886, dtype: float64"
      ]
     },
     "execution_count": 31,
     "metadata": {},
     "output_type": "execute_result"
    }
   ],
   "source": [
    "feature_scores = pd.Series(rf.feature_importances_, index = X_train_encode.columns).sort_values(ascending=False)\n",
    "feature_scores"
   ]
  },
  {
   "cell_type": "code",
   "execution_count": 32,
   "id": "2b6f272f",
   "metadata": {},
   "outputs": [
    {
     "data": {
      "text/plain": [
       "purchase_lead            0.143992\n",
       "flight_hour              0.120373\n",
       "length_of_stay           0.110558\n",
       "num_passengers           0.047366\n",
       "flight_duration          0.037259\n",
       "booking_origin_6         0.028427\n",
       "wants_in_flight_meals    0.023267\n",
       "booking_origin_1         0.020567\n",
       "wants_preferred_seat     0.018801\n",
       "wants_extra_baggage      0.018367\n",
       "dtype: float64"
      ]
     },
     "execution_count": 32,
     "metadata": {},
     "output_type": "execute_result"
    }
   ],
   "source": [
    "#Top ten features with the highest contribution to the predictive power of the model\n",
    "feature_scores[:10]"
   ]
  },
  {
   "cell_type": "code",
   "execution_count": 33,
   "id": "5d6a2506",
   "metadata": {},
   "outputs": [
    {
     "data": {
      "image/png": "[encoded data removed]",
      "text/plain": [
       "<Figure size 1600x600 with 1 Axes>"
      ]
     },
     "metadata": {},
     "output_type": "display_data"
    }
   ],
   "source": [
    "f, ax = plt.subplots(figsize = (16, 6))\n",
    "ax = sns.barplot(x = feature_scores[:10], y = feature_scores.index[:10], data = df)\n",
    "ax.set_title(\"Visualize Top Ten Important Features\")\n",
    "ax.set_yticklabels(feature_scores.index[:10])\n",
    "ax.set_xlabel(\"Feature importance score\")\n",
    "ax.set_ylabel(\"Features\")\n",
    "plt.savefig(r\"C:\\Users\\Oreoluwa\\Downloads\\feature importance.png\")\n",
    "plt.show()"
   ]
  },
  {
   "cell_type": "markdown",
   "id": "85162a57",
   "metadata": {},
   "source": [
    "Purchase lead is the most contributing feature to the model"
   ]
  },
  {
   "cell_type": "code",
   "execution_count": null,
   "id": "0959ab9d",
   "metadata": {},
   "outputs": [],
   "source": []
  },
  {
   "cell_type": "code",
   "execution_count": 34,
   "id": "67473578",
   "metadata": {},
   "outputs": [],
   "source": [
    "#Using the top 5 features only to build the model\n",
    "X_train_new = X_train[['purchase_lead', 'flight_hour', 'length_of_stay', 'num_passengers', 'flight_duration']]\n",
    "X_test_new = X_test[['purchase_lead', 'flight_hour', 'length_of_stay', 'num_passengers', 'flight_duration']]"
   ]
  },
  {
   "cell_type": "code",
   "execution_count": 35,
   "id": "17423e13",
   "metadata": {},
   "outputs": [
    {
     "name": "stdout",
     "output_type": "stream",
     "text": [
      "0.8331333333333333\n"
     ]
    }
   ],
   "source": [
    "rf3 = RandomForestClassifier(random_state = 0, n_estimators = 100) #The number of trees in the forest is 100\n",
    "rf3.fit(X_train_new, y_train) #Fit the model\n",
    "y_pred3 = rf3.predict(X_test_new) #Predict the Test set results\n",
    "accuracy3 = accuracy_score(y_test, y_pred3) #Check accuracy score \n",
    "print(accuracy3)"
   ]
  },
  {
   "cell_type": "markdown",
   "id": "28afb00e",
   "metadata": {},
   "source": [
    "The accuracy score reduces to 0.8331 when the only the top 5 features were used, this shows that we cannot rely on these top features alone to build a good model"
   ]
  },
  {
   "cell_type": "code",
   "execution_count": null,
   "id": "c30b9921",
   "metadata": {},
   "outputs": [],
   "source": []
  },
  {
   "cell_type": "markdown",
   "id": "2713e798",
   "metadata": {},
   "source": [
    "# Confusion matrix"
   ]
  },
  {
   "cell_type": "markdown",
   "id": "6a148234",
   "metadata": {},
   "source": [
    "This is used to evaluate the performance of the model"
   ]
  },
  {
   "cell_type": "code",
   "execution_count": 36,
   "id": "f1dde36d",
   "metadata": {},
   "outputs": [
    {
     "name": "stdout",
     "output_type": "stream",
     "text": [
      "[[12487   270]\n",
      " [ 1986   257]]\n"
     ]
    }
   ],
   "source": [
    "cm = confusion_matrix(y_test, y_pred, labels = [0,1])\n",
    "print(cm)"
   ]
  },
  {
   "cell_type": "code",
   "execution_count": 37,
   "id": "8313a77a",
   "metadata": {},
   "outputs": [
    {
     "data": {
      "image/png": "[encoded data removed]",
      "text/plain": [
       "<Figure size 1000x600 with 2 Axes>"
      ]
     },
     "metadata": {},
     "output_type": "display_data"
    }
   ],
   "source": [
    "cm_disp = ConfusionMatrixDisplay(confusion_matrix = cm, display_labels = ['booking not completed', 'booking completed'])\n",
    "fig, ax = plt.subplots(figsize=(10,6))\n",
    "cm_disp.plot(ax=ax)\n",
    "plt.savefig(r\"C:\\Users\\Oreoluwa\\Downloads\\cm map.png\")"
   ]
  },
  {
   "cell_type": "markdown",
   "id": "32817193",
   "metadata": {},
   "source": [
    "From this, the model predicted 12,487 True Negative, 1,986 False Positive, 270 False Negative and 257 True Positive."
   ]
  },
  {
   "cell_type": "code",
   "execution_count": null,
   "id": "1c1e8f24",
   "metadata": {},
   "outputs": [],
   "source": []
  },
  {
   "cell_type": "markdown",
   "id": "e5e2ad28",
   "metadata": {},
   "source": [
    "# Conclusion"
   ]
  },
  {
   "cell_type": "markdown",
   "id": "ec37b856",
   "metadata": {},
   "source": [
    "- In this project, I built a predictive model using Random Forest Classifier to predict the target output which is a customer making a booking.\n",
    "- The model accuracy score with 100 decision-trees is 0.8496, with 10 decision-trees is 0.8479 and with 200 decision-trees is 0.8515. So, as expected accuracy increases with number of decision-trees in the model.\n",
    "- The most important feature in the model is Purchase lead. Others top features include Flight hour, Length of stay, Number of passengers, Flight duration.\n",
    "- Using these top five features only to build the model, the accuracy score reduces to 0.8331. This shows that we cannot rely on these top features alone to build a good model.\n",
    "- 12,487 of bookings not completed was accurately predicted by the model and 257 of bookings completed was accurately predicted by the model. Therefore, 85% of predictions were correct.\n",
    "- The bookings that were not completed out number the completed bookings."
   ]
  },
  {
   "cell_type": "markdown",
   "id": "f012b18e",
   "metadata": {},
   "source": [
    "# Recommendation"
   ]
  },
  {
   "cell_type": "markdown",
   "id": "94162a4a",
   "metadata": {},
   "source": [
    "85% of predictions from the model was correct showing that the model might require a slight improvement. I suggest adding more customer-centric features into the model.\n"
   ]
  },
  {
   "cell_type": "code",
   "execution_count": null,
   "id": "0f5b0219",
   "metadata": {},
   "outputs": [],
   "source": []
  }
 ],
 "metadata": {
  "kernelspec": {
   "display_name": "Python 3 (ipykernel)",
   "language": "python",
   "name": "python3"
  },
  "language_info": {
   "codemirror_mode": {
    "name": "ipython",
    "version": 3
   },
   "file_extension": ".py",
   "mimetype": "text/x-python",
   "name": "python",
   "nbconvert_exporter": "python",
   "pygments_lexer": "ipython3",
   "version": "3.10.9"
  }
 },
 "nbformat": 4,
 "nbformat_minor": 5
}
